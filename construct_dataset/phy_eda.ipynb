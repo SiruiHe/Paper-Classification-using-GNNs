{
 "cells": [
  {
   "cell_type": "markdown",
   "metadata": {},
   "source": [
    "## Read and Process `Ref`"
   ]
  },
  {
   "cell_type": "code",
   "execution_count": 1,
   "metadata": {},
   "outputs": [
    {
     "name": "stdout",
     "output_type": "stream",
     "text": [
      "数据集总行数: 290131\n",
      "\n",
      "数据集基本信息:\n",
      "<class 'pandas.core.frame.DataFrame'>\n",
      "RangeIndex: 290131 entries, 0 to 290130\n",
      "Data columns (total 2 columns):\n",
      " #   Column          Non-Null Count   Dtype \n",
      "---  ------          --------------   ----- \n",
      " 0   DOI             290131 non-null  object\n",
      " 1   References_DOI  290131 non-null  object\n",
      "dtypes: object(2)\n",
      "memory usage: 4.4+ MB\n",
      "None\n"
     ]
    }
   ],
   "source": [
    "import pandas as pd\n",
    "\n",
    "# 读取CSV文件\n",
    "df = pd.read_csv('crawler_data/processed_with_references.csv')\n",
    "\n",
    "# 显示总行数\n",
    "print(f\"数据集总行数: {len(df)}\")\n",
    "\n",
    "# 显示数据基本信息\n",
    "print(\"\\n数据集基本信息:\")\n",
    "print(df.info())"
   ]
  },
  {
   "cell_type": "code",
   "execution_count": 3,
   "metadata": {},
   "outputs": [
    {
     "name": "stdout",
     "output_type": "stream",
     "text": [
      "\n",
      "References_DOI出现频率统计:\n",
      "References_DOI\n",
      "No References                                                                                                                                                                                                                                                                                                                                                                                                                                                                                                                                                                                                                                                                                                                                                                                                                                                                                                                                                                                                                                                                                                                                                                                                                                                                                                                                                                                                                                                                                                                                                                                                                                                                                                                                                                                                                                                                                                                                                                                                                                                                                                     5370\n",
      "ERROR                                                                                                                                                                                                                                                                                                                                                                                                                                                                                                                                                                                                                                                                                                                                                                                                                                                                                                                                                                                                                                                                                                                                                                                                                                                                                                                                                                                                                                                                                                                                                                                                                                                                                                                                                                                                                                                                                                                                                                                                                                                                                                             1374\n",
      "10.1103/PhysRevD.30.1615||10.1103/PhysRevD.22.1922||10.1103/PhysRevD.55.1964||10.1103/PhysRev.78.29||10.1143/ptp/6.3.267||10.1103/PhysRev.95.1323||10.1103/PhysRevD.8.364||10.1103/PhysRevD.10.2330||10.1017/CBO9780511564246||10.1103/PhysRevD.91.033006||10.1103/PhysRevLett.100.120801||10.1103/PhysRevA.83.052122||10.1103/RevModPhys.88.035009||10.1088/1674-1137/40/10/100001||10.1016/0550-3213(79)90292-X||10.1016/0370-2693(77)90199-X||10.1103/PhysRevD.73.072003||10.1088/0034-4885/70/5/R03||10.1103/PhysRevLett.2.435                                                                                                                                                                                                                                                                                                                                                                                                                                                                                                                                                                                                                                                                                                                                                                                                                                                                                                                                                                                                                                                                                                                                                                                                                                                                                                                                                                                                                                                                                                                                                                                   3\n",
      "10.1103/PhysRevB.61.10267||10.1070/1063-7869/44/10S/S29||10.1038/nphys1915||10.1103/RevModPhys.80.1083||10.1038/npjqi.2015.1||10.1103/PhysRevLett.105.077001||10.1103/PhysRevLett.105.177002||10.1126/science.1222360||10.1126/science.aaf3961||10.1038/nature17162||10.1038/nature26142||10.1038/s41578-018-0003-1||10.1103/PhysRevLett.100.096407||10.1103/PhysRevB.84.144507||10.1103/PhysRevB.84.201105||10.1103/PhysRevLett.113.107003||10.1103/PhysRevLett.114.017001||10.1103/PhysRevLett.104.040502||10.1103/PhysRevB.81.125318||10.1103/PhysRevLett.107.097001||10.1126/science.aao1797||10.1103/PhysRevLett.94.166802||10.1103/PhysRevB.85.020502||10.1103/PhysRevB.90.155450||10.1103/PhysRevB.92.014514||10.1103/PhysRevLett.118.107701||10.1103/PhysRevX.7.021032||10.3762/bjnano.9.142||10.1103/PhysRevLett.9.9||10.1126/science.1066144||10.1103/PhysRevLett.107.037001||10.1103/PhysRevX.8.031041||10.1103/PhysRevX.8.031040||10.1103/PhysRevB.99.161118||10.1103/PhysRevB.93.235431||10.1038/nmat4176||10.1103/PhysRevB.29.5232||10.1103/PhysRevLett.103.037001||10.1016/0031-9163(64)90375-0||10.21468/SciPostPhys.7.5.061||10.1088/1367-2630/18/3/033013||10.1103/PhysRevB.99.245408||10.1103/PhysRevLett.119.037701||10.1007/b13586||10.1145/2331130.2331138||10.1103/PhysRevB.95.115421||10.1103/PhysRevB.84.214528||10.1103/PhysRevB.93.235434||10.1088/1367-2630/16/6/063065||10.1103/PhysRevLett.121.256803||10.1038/s41467-018-07279-7||10.1103/PhysRevLett.103.107001||10.1103/PhysRevLett.104.056402||10.1103/PhysRevB.96.054504||10.1103/PhysRevLett.70.4138||10.1103/PhysRevLett.72.1742||10.1038/nphys3461||10.1002/pssb.200743470||10.1103/PhysRevB.97.041411||10.1103/PhysRevB.84.144522||10.1103/PhysRevB.88.020407||10.1103/PhysRevLett.114.106801||10.1063/1.1368156||10.1103/PhysRevB.96.075161||10.1103/PhysRevB.100.035426||10.1103/PhysRevB.97.045421||10.1126/science.aav3392||10.1126/science.aav3392||10.1103/PhysRevB.79.134524||10.1103/PhysRevB.87.241402||10.1126/science.1148758||10.1103/PhysRevB.44.1646||10.1103/PhysRev.111.132||10.1103/PhysRevB.86.220506       3\n",
      "10.1017/S0022112000001713||10.1007/s10494-018-9917-3||10.1017/S0022112098002419||10.1017/jfm.2018.131||10.1017/S0022112003007304||10.1017/jfm.2018.903||10.1016/j.physd.2004.02.008||10.1063/1.4862918||10.1017/jfm.2018.508||10.1017/jfm.2014.529||10.1017/jfm.2015.138||10.1017/jfm.2015.268||10.1017/jfm.2021.736||10.1017/jfm.2015.182||10.1017/CBO9780511840531||10.1017/jfm.2021.924||10.1063/1.3555191||10.1073/pnas.1704671114||10.1017/jfm.2013.255||10.1017/jfm.2020.991||10.1126/science.1188765||10.1017/jfm.2012.508||10.1007/s00348-015-1994-7||10.1017/jfm.2021.727||10.1063/1.4823831||10.1017/jfm.2017.406||10.1063/1.4944735                                                                                                                                                                                                                                                                                                                                                                                                                                                                                                                                                                                                                                                                                                                                                                                                                                                                                                                                                                                                                                                                                                                                                                                                                                                                                                                                                                                                                                                                       3\n",
      "                                                                                                                                                                                                                                                                                                                                                                                                                                                                                                                                                                                                                                                                                                                                                                                                                                                                                                                                                                                                                                                                                                                                                                                                                                                                                                                                                                                                                                                                                                                                                                                                                                                                                                                                                                                                                                                                                                                                                                                                                                                                                                                  ... \n",
      "10.3749/canmin.48.5.1423||10.1016/S0016-7037(96)00245-1||10.1039/C8AN01451E||10.1073/pnas.1807267115||10.1039/C7JA00294G||10.1021/acs.analchem.6b01209||10.1016/j.nimb.2017.07.025||10.1016/j.nimb.2018.12.021||10.1016/0012-821X(75)90195-8||10.1016/j.nimb.2015.07.122||10.1016/j.nimb.2008.02.085||10.1016/j.nimb.2007.01.190||10.1039/C6JA00402D||10.1016/S1387-3806(00)00305-5||10.1016/j.apsusc.2004.03.173||10.1016/S1387-3806(98)14006-X||10.1016/0168-1176(86)87039-2||10.1016/j.nimb.2012.03.004||10.1016/j.nimb.2018.04.020||10.1016/j.apsusc.2008.05.175||10.1126/science.1204636||10.1016/S0168-583X(00)00126-9||10.1016/0168-1176(91)87005-L||10.1007/978-3-642-82256-8||10.1016/S0009-2541(02)00320-0||10.1007/s001260050127||10.1103/PhysRevLett.93.182302||10.1016/S0016-7037(00)00334-3||10.1016/j.nimb.2010.02.091||10.1016/j.nimb.2012.01.014||10.1016/j.nimb.2007.01.138||10.1016/0042-207X(75)91404-9||10.1103/PhysRev.138.A322||10.1016/0168-583X(86)90274-0||10.1016/j.chemgeo.2005.09.008||10.1016/0009-2541(90)90136-U||10.1007/s00410-002-0432-z||10.1016/j.gca.2017.05.027||10.1111/maps.12623||10.1016/0168-583X(94)96011-9||10.1116/1.581657||10.1002/sia.5066||10.1002/sia.3388||10.1016/j.nimb.2010.12.087||10.1021/ac00144a017||10.1021/ac00165a012||10.1021/ac00165a011||10.1116/1.591221||10.1016/0039-6028(75)90298-8||10.1016/0168-583X(92)95546-4||10.1002/sia.740200816                                                                                                                                                                                                                                                                                                                                                                                                                                                                                                                                                                                                                                                                                                       1\n",
      "10.1103/PhysRevD.63.114020||10.1016/S0550-3213(02)00687-9||10.1016/S0370-2693(01)00902-9||10.1103/PhysRevD.65.054022||10.1017/CBO9780511975592||10.1016/0550-3213(81)90371-0||10.1016/0003-4916(76)90156-1||10.1017/CBO9781139644174||10.1103/PhysRevD.51.1919||10.1142/S0217751X02006110||10.1063/1.3545970||10.1140/epjc/s10052-015-3549-8||10.1007/s10773-015-2628-9||10.1016/j.physletb.2015.03.066||10.1140/epjc/s10052-012-2065-3||10.1016/j.aop.2012.07.011||10.1209/0295-5075/93/31001||10.1142/S0217732310034535||10.1016/j.physletb.2013.02.057||10.1140/epjc/s10052-016-4008-x||10.1142/S0217751X15500323||10.1016/j.physletb.2014.09.042||10.1016/j.physletb.2014.04.019||10.1142/S0217751X15501857||10.1140/epjc/s10052-016-4242-2||10.1016/j.physletb.2014.05.076||10.1093/ptep/ptw084||10.1209/0295-5075/92/21001||10.1140/epjc/s10052-016-4213-7||10.1103/PhysRevD.88.065019||10.1016/j.nuclphysb.2014.09.011||10.1142/S0217751X15500219||10.1016/j.physletb.2014.10.042||10.1016/j.physletb.2014.12.013||10.1016/j.aop.2015.03.002||10.1142/S0217732315500728||10.1016/j.aop.2013.10.012||10.1016/j.aop.2014.03.002||10.1209/0295-5075/105/21001||10.1209/0295-5075/104/61001||10.1016/j.physletb.2013.10.013||10.1142/0362||10.1007/s13538-017-0503-2||10.1007/s13538-017-0500-5||10.1016/j.physletb.2010.11.036||10.1016/j.physletb.2010.11.060||10.1103/PhysRevD.84.011502||10.1016/S0370-2693(02)03204-5                                                                                                                                                                                                                                                                                                                                                                                                                                                                                                                                                                                                                                                                                        1\n",
      "10.1038/nature06843||10.1038/nature08234||10.1038/ncomms1131||10.1002/adma.201200187||10.1126/science.1173034||10.1126/science.1167733||10.1103/PhysRevB.91.161406||10.1126/science.1189792||10.1038/nphys1861||10.1038/nmat2609||10.1103/PhysRevLett.105.176602||10.1038/nature08308||10.1103/PhysRevB.87.115410||10.1038/nmat1849||10.1021/acs.nanolett.5b04425||10.1103/PhysRevB.84.235206||10.1103/PhysRevB.88.081301||10.1103/PhysRevB.90.165140||10.1103/PhysRevB.89.125416||10.1038/ncomms1588||10.1038/nnano.2011.172||10.1088/0953-8984/28/49/495501||10.1038/ncomms1639||10.1038/ncomms11456||10.1103/PhysRevB.76.045302||10.1103/PhysRevLett.107.036802||10.1002/anie.201411246||10.1002/adma.201602128||10.1103/PhysRevB.85.201410||10.1103/PhysRevLett.108.176401||10.1088/0305-4470/39/13/003||10.1103/PhysRevLett.89.256601||10.1103/PhysRevLett.42.673||10.1103/PhysRevLett.99.106801||10.3390/app8122401||10.1002/qua.24658||10.3762/bjnano.9.94||10.1103/PhysRevLett.98.076602||10.1103/PhysRevB.63.201101                                                                                                                                                                                                                                                                                                                                                                                                                                                                                                                                                                                                                                                                                                                                                                                                                                                                                                                                                                                                                                                                                         1\n",
      "10.1088/0034-4885/79/11/116301||10.1088/1361-6633/aacfa7||10.1016/j.ppnp.2018.07.002||10.1103/PhysRevLett.116.122504||10.1103/PhysRev.72.29||10.1103/PhysRevC.88.054612||10.1103/RevModPhys.33.471||10.1002/andp.19955070504||10.1103/PhysRevLett.76.4709||10.1103/RevModPhys.72.895||10.1016/j.chemphys.2019.02.004||10.1103/RevModPhys.82.2845||10.1103/PhysRevC.92.044617||10.1016/j.aop.2019.01.014||10.1103/RevModPhys.75.121||10.1016/0003-4916(83)90202-6||10.1103/PhysRevC.91.044606                                                                                                                                                                                                                                                                                                                                                                                                                                                                                                                                                                                                                                                                                                                                                                                                                                                                                                                                                                                                                                                                                                                                                                                                                                                                                                                                                                                                                                                                                                                                                                                                                         1\n",
      "10.1103/PhysRevLett.74.2694||10.1007/978-3-319-06758-2||10.1007/BF02392587||10.1088/0305-4470/31/16/003||10.1007/s002200050572||10.1023/A:1004589714161||10.1023/A:1004541830999||10.1142/4222||10.1090/S0002-9904-1967-11798-1||10.1007/978-3-662-05853-4||10.1007/BF01075361||10.1007/BF01389848||10.1007/BF01646553||10.1142/2796||10.1017/CBO9780511608773||10.1007/s002200050200||10.1016/S0167-2789(97)00007-9||10.1111/j.1749-6632.1980.tb29669.x||10.1007/BF02179860||10.1017/CBO9781139381420.003||10.1140/epjh/e2016-70030-8||10.1007/BF02175553||10.1016/0003-4916(63)90068-X||10.1063/1.3376659||10.1103/PhysRevLett.71.2401||10.1088/0951-7715/8/3/005||10.1007/BF01645487||10.1103/PhysRevLett.70.1255||10.1016/j.physd.2003.09.029||10.1088/0951-7715/20/10/R01||10.1007/s10955-014-1051-6||10.1103/PhysRevE.98.012202||10.1103/PhysRevA.38.2103||10.1103/PhysRevE.53.R5545||10.1007/BF02102109||10.1007/978-3-662-00731-0||10.1016/S0167-2789(97)00214-5||10.1016/S0167-2789(96)00236-9||10.1007/s00222-010-0246-y||10.1063/1.3396283||10.1103/PhysRevLett.77.4334||10.1515/form.10.1.89||10.1007/BF02174123||10.1007/s002200050241||10.1007/s002200050134||10.2307/2373370||10.1007/BFb0081279||10.1007/BF01022365||10.1090/S0002-9939-1978-0474415-8||10.1070/RM1972v027n04ABEH001383||10.1103/PhysRevLett.92.050602||10.1016/S0375-9601(96)00729-3||10.1063/1.533335||10.1088/1742-5468/2006/10/P10011||10.1007/BF01212343||10.1007/BF01011429||10.1007/BF01107910||10.1007/BF01014392||10.1007/BF02336933||10.1007/BF01019145||10.1007/BF00271636||10.1007/BF01218566||10.1007/BF01215277||10.1103/PhysRevE.50.1645||10.1103/PhysRevLett.78.2690||10.1142/4222||10.1023/A:1004593915069||10.1063/1.166320||10.4171/dms/1-1/4||10.1007/s002200100420||10.1063/1.2157052||10.1016/S0167-2789(96)00250-3||10.1016/S0378-4371(98)00502-0||10.1103/PhysRevE.66.016119||10.5802/aif.233                                                                                                                                                                                                                1\n",
      "Name: count, Length: 283193, dtype: int64\n"
     ]
    }
   ],
   "source": [
    "# 统计References_DOI列中每个值的出现频率\n",
    "doi_counts = df[\"References_DOI\"].value_counts()\n",
    "print(\"\\nReferences_DOI出现频率统计:\")\n",
    "print(doi_counts)"
   ]
  },
  {
   "cell_type": "code",
   "execution_count": 4,
   "metadata": {},
   "outputs": [
    {
     "name": "stdout",
     "output_type": "stream",
     "text": [
      "去重后的数据集行数: 289887\n",
      "去掉No References和ERROR后的数据集行数: 283198\n",
      "\n",
      "处理后的数据基本信息:\n",
      "                         DOI  \\\n",
      "count                 283198   \n",
      "unique                283198   \n",
      "top     10.1155/2018/4657079   \n",
      "freq                       1   \n",
      "\n",
      "                                           References_DOI  \n",
      "count                                              283198  \n",
      "unique                                             283191  \n",
      "top     10.2172/1767028||10.1088/1748-0221/12/06/P0601...  \n",
      "freq                                                    2  \n",
      "DOI\n",
      "10.1155/2018/4657079                 1\n",
      "10.1088/1742-6596/2156/1/012018      1\n",
      "10.1093/mnras/stab3716               1\n",
      "10.1103/PhysRevLett.128.134502       1\n",
      "10.1088/2516-1083/ac692c             1\n",
      "                                    ..\n",
      "10.1103/PhysRevMaterials.4.014601    1\n",
      "10.1103/PhysRevB.100.235114          1\n",
      "10.1103/PhysRevB.102.144508          1\n",
      "10.1016/j.nima.2020.163907           1\n",
      "10.1007/s10955-019-02376-3           1\n",
      "Name: count, Length: 283198, dtype: int64\n"
     ]
    }
   ],
   "source": [
    "# 去掉重复值\n",
    "df = df.drop_duplicates()\n",
    "print(f\"去重后的数据集行数: {len(df)}\")\n",
    "\n",
    "# 去掉References_DOI为'No References'或'ERROR'的行\n",
    "df = df[~df['References_DOI'].isin(['No References', 'ERROR'])]\n",
    "print(f\"去掉No References和ERROR后的数据集行数: {len(df)}\")\n",
    "\n",
    "# 显示处理后的数据基本信息\n",
    "print(\"\\n处理后的数据基本信息:\")\n",
    "print(df.describe())\n",
    "doi_counts = df[\"DOI\"].value_counts()\n",
    "print(doi_counts)\n"
   ]
  },
  {
   "cell_type": "markdown",
   "metadata": {},
   "source": [
    "## Read and Process `paper_info`"
   ]
  },
  {
   "cell_type": "code",
   "execution_count": 5,
   "metadata": {},
   "outputs": [
    {
     "name": "stdout",
     "output_type": "stream",
     "text": [
      "processed_with_doi.csv数据集行数: 290131\n"
     ]
    },
    {
     "data": {
      "text/plain": [
       "DOI\n",
       "10.18716/kups/64624               6\n",
       "10.58027/3q8k-ew90                5\n",
       "10.1093/ptep/pty066               3\n",
       "10.1126/science.aav3392           3\n",
       "10.1088/2053-1583                 3\n",
       "                                 ..\n",
       "10.1016/j.asr.2019.11.007         1\n",
       "10.1088/1674-1056/ab6553          1\n",
       "10.1103/PhysRevA.101.043845       1\n",
       "10.1016/j.physletb.2020.135305    1\n",
       "10.1007/s10955-019-02376-3        1\n",
       "Name: count, Length: 289887, dtype: int64"
      ]
     },
     "execution_count": 5,
     "metadata": {},
     "output_type": "execute_result"
    }
   ],
   "source": [
    "# 读取processed_with_doi.csv文件\n",
    "df_doi = pd.read_csv('crawler_data/processed_with_doi.csv')\n",
    "print(f\"processed_with_doi.csv数据集行数: {len(df_doi)}\")\n",
    "\n",
    "df_doi[\"DOI\"].value_counts()\n"
   ]
  },
  {
   "cell_type": "code",
   "execution_count": 6,
   "metadata": {},
   "outputs": [
    {
     "name": "stdout",
     "output_type": "stream",
     "text": [
      "删除重复项后的数据集行数: 289660\n",
      "\n",
      "检查是否还有重复 DOI:\n",
      "DOI\n",
      "10.1155/2018/4657079                1\n",
      "10.3847/1538-4365/ac1fe5            1\n",
      "10.1088/1674-1137/ac0c74            1\n",
      "10.3847/1538-4357/ac3250            1\n",
      "10.1103/PhysRevApplied.16.044032    1\n",
      "Name: count, dtype: int64\n"
     ]
    }
   ],
   "source": [
    "# 找出只出现一次的 DOI\n",
    "doi_counts = df_doi['DOI'].value_counts()\n",
    "unique_dois = doi_counts[doi_counts == 1].index\n",
    "\n",
    "# 只保留这些 DOI 对应的行\n",
    "df_doi = df_doi[df_doi['DOI'].isin(unique_dois)]\n",
    "print(f\"删除重复项后的数据集行数: {len(df_doi)}\")\n",
    "\n",
    "# 验证是否还有重复的 DOI\n",
    "print(\"\\n检查是否还有重复 DOI:\")\n",
    "print(df_doi['DOI'].value_counts().head())"
   ]
  },
  {
   "cell_type": "markdown",
   "metadata": {},
   "source": [
    "## Merge and Construct csv files"
   ]
  },
  {
   "cell_type": "code",
   "execution_count": 7,
   "metadata": {},
   "outputs": [
    {
     "name": "stdout",
     "output_type": "stream",
     "text": [
      "内连接后的数据集行数: 283012\n",
      "\n",
      "连接后数据的基本信息:\n",
      "<class 'pandas.core.frame.DataFrame'>\n",
      "RangeIndex: 283012 entries, 0 to 283011\n",
      "Data columns (total 8 columns):\n",
      " #   Column            Non-Null Count   Dtype \n",
      "---  ------            --------------   ----- \n",
      " 0   arXiv Code        283012 non-null  object\n",
      " 1   Categories        283012 non-null  object\n",
      " 2   Title             283012 non-null  object\n",
      " 3   Abstract          283012 non-null  object\n",
      " 4   Submission Date   283012 non-null  int64 \n",
      " 5   Primary_Subclass  283012 non-null  object\n",
      " 6   DOI               283012 non-null  object\n",
      " 7   References_DOI    283012 non-null  object\n",
      "dtypes: int64(1), object(7)\n",
      "memory usage: 17.3+ MB\n",
      "None\n"
     ]
    },
    {
     "data": {
      "text/plain": [
       "arXiv Code          283012\n",
       "Categories          283012\n",
       "Title               282979\n",
       "Abstract            283006\n",
       "Submission Date       2191\n",
       "Primary_Subclass        53\n",
       "DOI                 283012\n",
       "References_DOI      283005\n",
       "dtype: int64"
      ]
     },
     "execution_count": 7,
     "metadata": {},
     "output_type": "execute_result"
    }
   ],
   "source": [
    "# 基于DOI进行内连接\n",
    "merged_df = pd.merge(df_doi, df, on='DOI', how='inner')\n",
    "print(f\"内连接后的数据集行数: {len(merged_df)}\")\n",
    "\n",
    "# 显示连接后数据的基本信息\n",
    "print(\"\\n连接后数据的基本信息:\")\n",
    "print(merged_df.info())\n",
    "\n",
    "merged_df.nunique()\n"
   ]
  },
  {
   "cell_type": "code",
   "execution_count": 8,
   "metadata": {},
   "outputs": [
    {
     "data": {
      "text/plain": [
       "Title\n",
       "Fast Radio Bursts                                                                                                       4\n",
       "Coherence of quantum channels                                                                                           2\n",
       "Cosmological radiation density with non-standard neutrino-electron interactions                                         2\n",
       "Dynamics in fractal spaces                                                                                              2\n",
       "Quasars as high-redshift standard candles                                                                               2\n",
       "                                                                                                                       ..\n",
       "A robust, template-free approach to precise radial velocity extraction                                                  1\n",
       "I-Love-Q Relations for Realistic White Dwarfs                                                                           1\n",
       "Unibody microscope objective tipped with a microsphere: design, fabrication and application in subwavelength imaging    1\n",
       "Flag fault-tolerant error correction for any stabilizer code                                                            1\n",
       "Nonequilibrium and Fluctuation Relation                                                                                 1\n",
       "Name: count, Length: 282979, dtype: int64"
      ]
     },
     "execution_count": 8,
     "metadata": {},
     "output_type": "execute_result"
    }
   ],
   "source": [
    "merged_df['Title'].value_counts()"
   ]
  },
  {
   "cell_type": "code",
   "execution_count": 9,
   "metadata": {},
   "outputs": [
    {
     "data": {
      "text/plain": [
       "0    10.1103/PhysRev.59.223||10.1119/1.1969508||10....\n",
       "1    10.1002/lpor.201200032||10.1109/JPHOT.2013.224...\n",
       "2    10.1016/j.physrep.2014.03.003||10.1002/adma.20...\n",
       "3    10.1103/PhysRev.69.37||10.1364/OE.21.015603||1...\n",
       "4    10.1016/j.snb.2004.09.024||10.1002/pssa.221153...\n",
       "Name: References_DOI, dtype: object"
      ]
     },
     "execution_count": 9,
     "metadata": {},
     "output_type": "execute_result"
    }
   ],
   "source": [
    "merged_df['References_DOI'].head()"
   ]
  },
  {
   "cell_type": "code",
   "execution_count": 10,
   "metadata": {},
   "outputs": [
    {
     "name": "stdout",
     "output_type": "stream",
     "text": [
      "每年发表的论文数量：\n",
      "Year\n",
      "2018    47259\n",
      "2019    48308\n",
      "2020    51907\n",
      "2021    51401\n",
      "2022    47665\n",
      "2023    36472\n",
      "Name: count, dtype: int64\n"
     ]
    }
   ],
   "source": [
    "# 将Submission Date转换为日期格式\n",
    "merged_df['Submission Date'] = pd.to_datetime(merged_df['Submission Date'], format='%Y%m%d')\n",
    "\n",
    "# 添加年份列\n",
    "merged_df['Year'] = merged_df['Submission Date'].dt.year\n",
    "\n",
    "# 统计每年的论文数量\n",
    "yearly_counts = merged_df['Year'].value_counts().sort_index()\n",
    "\n",
    "# 打印统计结果\n",
    "print(\"每年发表的论文数量：\")\n",
    "print(yearly_counts)"
   ]
  },
  {
   "cell_type": "code",
   "execution_count": 17,
   "metadata": {},
   "outputs": [
    {
     "name": "stdout",
     "output_type": "stream",
     "text": [
      "DOI重复项检查:\n",
      "总行数: 283012\n",
      "唯一DOI数: 283012\n",
      "\n",
      "DOI重复次数统计:\n",
      "Series([], Name: count, dtype: int64)\n"
     ]
    }
   ],
   "source": [
    "# 检查DOI是否有重复\n",
    "print(\"DOI重复项检查:\")\n",
    "print(f\"总行数: {len(merged_df)}\")\n",
    "print(f\"唯一DOI数: {merged_df['DOI'].nunique()}\")\n",
    "print(\"\\nDOI重复次数统计:\")\n",
    "print(merged_df['DOI'].value_counts()[merged_df['DOI'].value_counts() > 1])"
   ]
  },
  {
   "cell_type": "code",
   "execution_count": 11,
   "metadata": {},
   "outputs": [
    {
     "name": "stdout",
     "output_type": "stream",
     "text": [
      "总边数: 2549389\n",
      "去掉重复边后的边数: 2543027\n",
      "删除的重复边数: 6362\n",
      "总节点数: 283012\n",
      "总边数: 2543027\n",
      "标签类别数: 53\n",
      "\n",
      "训练集节点数: 198875 (70.3%)\n",
      "验证集节点数: 47665 (16.8%)\n",
      "测试集节点数: 36472 (12.9%)\n"
     ]
    }
   ],
   "source": [
    "import numpy as np\n",
    "import pandas as pd\n",
    "\n",
    "# 创建统一的DOI到索引的映射\n",
    "doi_to_idx = {doi: idx for idx, doi in enumerate(merged_df['DOI'].unique())}\n",
    "idx_to_doi = {idx: doi for doi, idx in doi_to_idx.items()}\n",
    "\n",
    "# 创建Primary_Subclass到标签的映射\n",
    "unique_labels = merged_df['Primary_Subclass'].unique()\n",
    "label_to_idx = {label: idx for idx, label in enumerate(unique_labels)}\n",
    "\n",
    "# 创建训练/验证/测试集的索引数组\n",
    "train_idx = []\n",
    "valid_idx = []\n",
    "test_idx = []\n",
    "\n",
    "# 一次性处理所有数据\n",
    "for doi, year in zip(merged_df['DOI'], merged_df['Year']):\n",
    "    idx = doi_to_idx[doi]\n",
    "    if 2018 <= year <= 2021:\n",
    "        train_idx.append(idx)\n",
    "    elif year == 2022:\n",
    "        valid_idx.append(idx)\n",
    "    elif year == 2023:\n",
    "        test_idx.append(idx)\n",
    "\n",
    "# 转换为numpy数组并保存\n",
    "np.save('raw/train_idx.npy', np.array(list(set(train_idx))))\n",
    "np.save('raw/valid_idx.npy', np.array(list(set(valid_idx))))\n",
    "np.save('raw/test_idx.npy', np.array(list(set(test_idx))))\n",
    "\n",
    "# 创建完整的edges.csv\n",
    "edges_list = []\n",
    "for doi, refs in zip(merged_df['DOI'], merged_df['References_DOI']):\n",
    "    source_idx = doi_to_idx[doi]\n",
    "    ref_dois = str(refs).split('||')\n",
    "    for ref_doi in ref_dois:\n",
    "        ref_doi = ref_doi.strip()\n",
    "        if ref_doi in doi_to_idx:\n",
    "            target_idx = doi_to_idx[ref_doi]\n",
    "            # 去掉自环\n",
    "            if source_idx != target_idx:\n",
    "                edges_list.append([source_idx, target_idx])\n",
    "\n",
    "# 去掉重复边\n",
    "edges_df = pd.DataFrame(edges_list, columns=['source', 'target'])\n",
    "edges_df = edges_df.drop_duplicates()\n",
    "\n",
    "# 保存处理后的边\n",
    "edges_df.to_csv('raw/edges.csv', index=False)\n",
    "\n",
    "# 打印统计信息\n",
    "print(f\"总边数: {len(edges_list)}\")\n",
    "print(f\"去掉重复边后的边数: {len(edges_df)}\")\n",
    "print(f\"删除的重复边数: {len(edges_list) - len(edges_df)}\")\n",
    "\n",
    "# 创建并保存节点标签\n",
    "node_labels = pd.DataFrame({\n",
    "    'label': [label_to_idx[label] for label in merged_df['Primary_Subclass']]\n",
    "})\n",
    "node_labels.to_csv('raw/node_labels.csv', index=False)\n",
    "\n",
    "# 打印统计信息\n",
    "print(f\"总节点数: {len(doi_to_idx)}\")\n",
    "print(f\"总边数: {len(edges_df)}\")\n",
    "print(f\"标签类别数: {len(label_to_idx)}\")\n",
    "print(f\"\\n训练集节点数: {len(set(train_idx))} ({len(set(train_idx))/len(doi_to_idx)*100:.1f}%)\")\n",
    "print(f\"验证集节点数: {len(set(valid_idx))} ({len(set(valid_idx))/len(doi_to_idx)*100:.1f}%)\")\n",
    "print(f\"测试集节点数: {len(set(test_idx))} ({len(set(test_idx))/len(doi_to_idx)*100:.1f}%)\")\n",
    "\n",
    "# 保存映射关系\n",
    "mapping_df = pd.DataFrame({\n",
    "    'idx': doi_to_idx.values(),\n",
    "    'doi': doi_to_idx.keys()\n",
    "})\n",
    "mapping_df.to_csv('raw/node_mapping.csv', index=False)\n",
    "\n",
    "# 保存标签映射\n",
    "with open('raw/label_mapping.txt', 'w') as f:\n",
    "    for label, idx in label_to_idx.items():\n",
    "        f.write(f\"{label}: {idx}\\n\")"
   ]
  },
  {
   "cell_type": "code",
   "execution_count": 14,
   "metadata": {},
   "outputs": [
    {
     "name": "stdout",
     "output_type": "stream",
     "text": [
      "重复边数量: 0\n",
      "\n",
      "自环数量: 0\n"
     ]
    }
   ],
   "source": [
    "# 统计重复边\n",
    "total_edges = len(edges_df)\n",
    "unique_edges = len(edges_df.drop_duplicates())\n",
    "duplicate_edges = total_edges - unique_edges\n",
    "\n",
    "print(f\"重复边数量: {duplicate_edges}\")\n",
    "\n",
    "# 统计自环\n",
    "self_loops = len(edges_df[edges_df['source'] == edges_df['target']])\n",
    "\n",
    "print(f\"\\n自环数量: {self_loops}\")"
   ]
  },
  {
   "cell_type": "markdown",
   "metadata": {},
   "source": [
    "## Utility"
   ]
  },
  {
   "cell_type": "code",
   "execution_count": 54,
   "metadata": {},
   "outputs": [
    {
     "name": "stdout",
     "output_type": "stream",
     "text": [
      "Node 972:\n",
      "--------------------------------------------------\n",
      "DOI: 10.1007/JHEP03(2018)028\n",
      "arXiv: arXiv:1712.07398\n",
      "Primary_Subclass: hep-th\n",
      "Title: Towards the Holographic Dual of N = 2 SYK\n"
     ]
    }
   ],
   "source": [
    "def get_node_info(node_idx):\n",
    "    \"\"\"\n",
    "    输入节点索引，返回该节点的详细信息\n",
    "    \n",
    "    Args:\n",
    "        node_idx (int): 节点索引号\n",
    "    \"\"\"\n",
    "    try:\n",
    "        # 获取DOI\n",
    "        doi = idx_to_doi[node_idx]\n",
    "        # 获取节点信息\n",
    "        node_info = merged_df[merged_df['DOI'] == doi].iloc[0]\n",
    "        \n",
    "        print(f\"Node {node_idx}:\")\n",
    "        print(\"-\" * 50)\n",
    "        print(f\"DOI: {doi}\")\n",
    "        print(f\"arXiv: {node_info['arXiv Code']}\")\n",
    "        print(f\"Primary_Subclass: {node_info['Primary_Subclass']}\")\n",
    "        print(f\"Title: {node_info['Title']}\")\n",
    "        \n",
    "    except KeyError:\n",
    "        print(f\"索引 {node_idx} 不存在\")\n",
    "    except Exception as e:\n",
    "        print(f\"查询出错: {str(e)}\")\n",
    "\n",
    "# 使用示例\n",
    "# get_node_info(254726)  # 查询索引为1的节点\n",
    "# get_node_info(49267)  # 查询索引为15017的节点\n",
    "get_node_info(972)  # 查询索引为15017的节点"
   ]
  },
  {
   "cell_type": "code",
   "execution_count": 13,
   "metadata": {},
   "outputs": [
    {
     "name": "stdout",
     "output_type": "stream",
     "text": [
      "Average citations per paper: 10.80\n",
      "Median citation count: 7.00\n",
      "Maximum citations: 875\n",
      "Minimum citations: 1\n",
      "\n",
      "Citation count distribution:\n",
      "count\n",
      "1    31817\n",
      "2    23904\n",
      "3    19440\n",
      "4    16211\n",
      "5    13823\n",
      "Name: count, dtype: int64\n"
     ]
    },
    {
     "data": {
      "image/png": "[encoded data removed]",
      "text/plain": [
       "<Figure size 1000x600 with 1 Axes>"
      ]
     },
     "metadata": {},
     "output_type": "display_data"
    }
   ],
   "source": [
    "import  matplotlib.pyplot as plt\n",
    "# 统计引用次数分布\n",
    "cite_counts = edges_df['source'].value_counts()\n",
    "\n",
    "# Plot citation count distribution\n",
    "plt.figure(figsize=(10, 6))\n",
    "plt.hist(cite_counts, bins=200, edgecolor='black')\n",
    "plt.title('Paper Citation Count Distribution')\n",
    "plt.xlabel('Number of Citations per Paper')\n",
    "plt.ylabel('Number of Papers')\n",
    "plt.grid(True, alpha=0.3)\n",
    "\n",
    "# Add some statistics\n",
    "print(f\"Average citations per paper: {cite_counts.mean():.2f}\")\n",
    "print(f\"Median citation count: {cite_counts.median():.2f}\")\n",
    "print(f\"Maximum citations: {cite_counts.max()}\")\n",
    "print(f\"Minimum citations: {cite_counts.min()}\")\n",
    "print(\"\\nCitation count distribution:\")\n",
    "print(cite_counts.value_counts().sort_index().head())\n"
   ]
  },
  {
   "cell_type": "markdown",
   "metadata": {},
   "source": [
    "## Text Embeddings"
   ]
  },
  {
   "cell_type": "code",
   "execution_count": 48,
   "metadata": {},
   "outputs": [
    {
     "name": "stderr",
     "output_type": "stream",
     "text": [
      "/opt/miniconda3/lib/python3.10/site-packages/huggingface_hub/file_download.py:1132: FutureWarning: `resume_download` is deprecated and will be removed in version 1.0.0. Downloads always resume when possible. If you want to force a new download, use `force_download=True`.\n",
      "  warnings.warn(\n"
     ]
    },
    {
     "data": {
      "application/vnd.jupyter.widget-view+json": {
       "model_id": "5b0c3292a2ca4a60bc640776c07af08d",
       "version_major": 2,
       "version_minor": 0
      },
      "text/plain": [
       "config.json:   0%|          | 0.00/385 [00:00<?, ?B/s]"
      ]
     },
     "metadata": {},
     "output_type": "display_data"
    },
    {
     "data": {
      "application/vnd.jupyter.widget-view+json": {
       "model_id": "2dcf1998196a4e1091d14b60ac329029",
       "version_major": 2,
       "version_minor": 0
      },
      "text/plain": [
       "vocab.txt:   0%|          | 0.00/228k [00:00<?, ?B/s]"
      ]
     },
     "metadata": {},
     "output_type": "display_data"
    },
    {
     "name": "stderr",
     "output_type": "stream",
     "text": [
      "/opt/miniconda3/lib/python3.10/site-packages/huggingface_hub/file_download.py:1132: FutureWarning: `resume_download` is deprecated and will be removed in version 1.0.0. Downloads always resume when possible. If you want to force a new download, use `force_download=True`.\n",
      "  warnings.warn(\n"
     ]
    },
    {
     "data": {
      "application/vnd.jupyter.widget-view+json": {
       "model_id": "bc87cc1825294ca9bda7cbe52426a230",
       "version_major": 2,
       "version_minor": 0
      },
      "text/plain": [
       "pytorch_model.bin:   0%|          | 0.00/442M [00:00<?, ?B/s]"
      ]
     },
     "metadata": {},
     "output_type": "display_data"
    },
    {
     "name": "stdout",
     "output_type": "stream",
     "text": [
      "测试前三个节点的文本嵌入：\n",
      "--------------------------------------------------------------------------------\n",
      "Node 0:\n",
      "DOI: 10.1155/2018/4657079\n",
      "Title: Moving unstable particles and special relativity\n",
      "Abstract: In Poincare-Wigner-Dirac theory of relativistic interactions, boosts are dynamical. This means that - just like time translations - boost transformations have non-trivial effect on internal variables ...\n",
      "\n",
      "嵌入向量维度: (768,)\n",
      "嵌入向量前10个值: [-0.11566325 -0.24276526  0.06427857 -0.02517963  0.359349   -0.11243422\n",
      "  0.558457    0.15690462 -0.22599123  0.17006728]\n",
      "嵌入向量L2范数: 14.1689\n",
      "--------------------------------------------------------------------------------\n",
      "Node 1:\n",
      "DOI: 10.1364/OL.43.000935\n",
      "Title: Optical vector network analysis of ultra-narrow transitions in $^{166}$Er$^{3+}$:$^7$LiYF$_4$\n",
      "Abstract: We present optical vector network analysis (OVNA) of an isotopically purified $^{166}$Er$^{3+}$:$^7$LiYF$_4$ crystal. The OVNA method is based on generation and detection of modulated optical sideband...\n",
      "\n",
      "嵌入向量维度: (768,)\n",
      "嵌入向量前10个值: [ 0.40708655 -0.34471366  0.23408946  0.16869728 -0.00507786  0.12103032\n",
      "  0.0354457   0.6190128  -0.21830928  0.1482601 ]\n",
      "嵌入向量L2范数: 12.9205\n",
      "--------------------------------------------------------------------------------\n",
      "Node 2:\n",
      "DOI: 10.1039/C8NR00053K\n",
      "Title: The graphene/n-Ge(110) interface: structure, doping, and electronic properties\n",
      "Abstract: The implementation of graphene in semiconducting technology requires the precise knowledge about the graphene-semiconductor interface. In our work the structure and electronic properties of the graphe...\n",
      "\n",
      "嵌入向量维度: (768,)\n",
      "嵌入向量前10个值: [ 0.22318114 -0.25138867 -0.23695175  0.28094664  0.19152604  0.17666696\n",
      " -0.03266694  0.5939374  -0.03127548  0.3509937 ]\n",
      "嵌入向量L2范数: 13.3635\n",
      "--------------------------------------------------------------------------------\n"
     ]
    }
   ],
   "source": [
    "from transformers import AutoTokenizer, AutoModel\n",
    "import torch\n",
    "import numpy as np\n",
    "from tqdm import tqdm\n",
    "\n",
    "# 加载SciBERT模型和分词器\n",
    "tokenizer = AutoTokenizer.from_pretrained('allenai/scibert_scivocab_uncased')\n",
    "model = AutoModel.from_pretrained('allenai/scibert_scivocab_uncased')\n",
    "model.eval()\n",
    "\n",
    "def get_scibert_embedding(text, max_length=512):\n",
    "    \"\"\"获取文本的SciBERT嵌入\"\"\"\n",
    "    inputs = tokenizer(text, \n",
    "                      return_tensors=\"pt\",\n",
    "                      max_length=max_length,\n",
    "                      truncation=True,\n",
    "                      padding=True)\n",
    "    \n",
    "    with torch.no_grad():\n",
    "        outputs = model(**inputs)\n",
    "        embeddings = outputs.last_hidden_state\n",
    "        mask = inputs['attention_mask'].unsqueeze(-1)\n",
    "        masked_embeddings = embeddings * mask\n",
    "        summed = torch.sum(masked_embeddings, dim=1)\n",
    "        avg_embeddings = summed / torch.sum(mask, dim=1)\n",
    "        \n",
    "    return avg_embeddings.numpy()[0]\n",
    "\n",
    "# 首先按DOI排序数据\n",
    "sorted_df = merged_df.set_index('DOI').loc[idx_to_doi.values()].reset_index()\n",
    "\n",
    "# 获取前三个节点的数据\n",
    "test_samples = sorted_df.head(3)\n",
    "\n",
    "print(\"测试前三个节点的文本嵌入：\")\n",
    "print(\"-\" * 80)\n",
    "\n",
    "for idx, row in test_samples.iterrows():\n",
    "    print(f\"Node {idx}:\")\n",
    "    print(f\"DOI: {row['DOI']}\")\n",
    "    print(f\"Title: {row['Title']}\")\n",
    "    print(f\"Abstract: {row['Abstract'][:200]}...\")  # 只显示摘要的前200个字符\n",
    "    \n",
    "    # 拼接文本并获取嵌入\n",
    "    text = f\"{row['Title']} [SEP] {row['Abstract']}\"\n",
    "    embedding = get_scibert_embedding(text)\n",
    "    \n",
    "    print(f\"\\n嵌入向量维度: {embedding.shape}\")\n",
    "    print(f\"嵌入向量前10个值: {embedding[:10]}\")\n",
    "    print(f\"嵌入向量L2范数: {np.linalg.norm(embedding):.4f}\")\n",
    "    print(\"-\" * 80)"
   ]
  },
  {
   "cell_type": "code",
   "execution_count": 26,
   "metadata": {},
   "outputs": [],
   "source": [
    "# 保存排序后的DataFrame\n",
    "sorted_df = merged_df.set_index('DOI').loc[idx_to_doi.values()].reset_index()\n",
    "sorted_df.to_csv('raw/sorted_papers.csv', index=False)"
   ]
  }
 ],
 "metadata": {
  "kernelspec": {
   "display_name": "base",
   "language": "python",
   "name": "python3"
  },
  "language_info": {
   "codemirror_mode": {
    "name": "ipython",
    "version": 3
   },
   "file_extension": ".py",
   "mimetype": "text/x-python",
   "name": "python",
   "nbconvert_exporter": "python",
   "pygments_lexer": "ipython3",
   "version": "3.10.14"
  }
 },
 "nbformat": 4,
 "nbformat_minor": 2
}
