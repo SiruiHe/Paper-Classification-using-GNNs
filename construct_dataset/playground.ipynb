{
 "cells": [
  {
   "cell_type": "code",
   "execution_count": 4,
   "metadata": {},
   "outputs": [
    {
     "name": "stdout",
     "output_type": "stream",
     "text": [
      "特征矩阵形状: (267031, 128)\n"
     ]
    }
   ],
   "source": [
    "import pandas as pd\n",
    "\n",
    "# 读取数据\n",
    "features_df = pd.read_csv('raw/reduced_features.csv')\n",
    "\n",
    "# 输出形状\n",
    "print(f\"特征矩阵形状: {features_df.shape}\")\n"
   ]
  },
  {
   "cell_type": "code",
   "execution_count": 1,
   "metadata": {},
   "outputs": [
    {
     "name": "stdout",
     "output_type": "stream",
     "text": [
      "当前CUDA版本号: 11.8\n",
      "当前PyTorch版本号: 2.1.0+cu118\n"
     ]
    }
   ],
   "source": [
    "import torch\n",
    "\n",
    "# Check CUDA version\n",
    "cuda_version = torch.version.cuda\n",
    "print(f\"当前CUDA版本号: {cuda_version}\")\n",
    "\n",
    "# Check PyTorch version\n",
    "pytorch_version = torch.__version__\n",
    "print(f\"当前PyTorch版本号: {pytorch_version}\")"
   ]
  },
  {
   "cell_type": "code",
   "execution_count": 2,
   "metadata": {},
   "outputs": [],
   "source": [
    "# 在不需要的时候释放缓存\n",
    "torch.cuda.empty_cache()"
   ]
  },
  {
   "cell_type": "code",
   "execution_count": null,
   "metadata": {},
   "outputs": [],
   "source": []
  }
 ],
 "metadata": {
  "kernelspec": {
   "display_name": "base",
   "language": "python",
   "name": "python3"
  },
  "language_info": {
   "codemirror_mode": {
    "name": "ipython",
    "version": 3
   },
   "file_extension": ".py",
   "mimetype": "text/x-python",
   "name": "python",
   "nbconvert_exporter": "python",
   "pygments_lexer": "ipython3",
   "version": "3.9.18"
  }
 },
 "nbformat": 4,
 "nbformat_minor": 2
}
