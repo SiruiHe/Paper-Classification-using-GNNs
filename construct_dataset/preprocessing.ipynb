{
 "cells": [
  {
   "cell_type": "markdown",
   "metadata": {},
   "source": [
    "## Read and Process `Merged_DF`"
   ]
  },
  {
   "cell_type": "code",
   "execution_count": 1,
   "metadata": {},
   "outputs": [
    {
     "name": "stdout",
     "output_type": "stream",
     "text": [
      "数据集总行数: 267037\n",
      "\n",
      "数据集基本信息:\n",
      "<class 'pandas.core.frame.DataFrame'>\n",
      "RangeIndex: 267037 entries, 0 to 267036\n",
      "Data columns (total 13 columns):\n",
      " #   Column                       Non-Null Count   Dtype \n",
      "---  ------                       --------------   ----- \n",
      " 0   arXiv Code                   267037 non-null  object\n",
      " 1   Categories                   267037 non-null  object\n",
      " 2   Title                        267037 non-null  object\n",
      " 3   Abstract                     267037 non-null  object\n",
      " 4   Submission Date              267037 non-null  int64 \n",
      " 5   Primary_Subclass             267037 non-null  object\n",
      " 6   DOI                          267037 non-null  object\n",
      " 7   Crossref Title               267037 non-null  object\n",
      " 8   Comparison                   267037 non-null  object\n",
      " 9   Preprocessed Original Title  267036 non-null  object\n",
      " 10  Preprocessed Crossref Title  267023 non-null  object\n",
      " 11  Authors                      267010 non-null  object\n",
      " 12  References_DOI               267037 non-null  object\n",
      "dtypes: int64(1), object(12)\n",
      "memory usage: 26.5+ MB\n",
      "None\n"
     ]
    }
   ],
   "source": [
    "import pandas as pd\n",
    "\n",
    "# 读取CSV文件\n",
    "# merged_df = pd.read_csv('crawler_data/merged_results_strict.csv')\n",
    "merged_df = pd.read_csv('crawler_data/merged_results_subseq.csv')\n",
    "\n",
    "# 显示总行数\n",
    "print(f\"数据集总行数: {len(merged_df)}\")\n",
    "\n",
    "# 显示数据基本信息\n",
    "print(\"\\n数据集基本信息:\")\n",
    "print(merged_df.info())"
   ]
  },
  {
   "cell_type": "code",
   "execution_count": 2,
   "metadata": {},
   "outputs": [
    {
     "name": "stdout",
     "output_type": "stream",
     "text": [
      "\n",
      "References_DOI重复值统计:\n",
      "总共有 267031 个不同的References_DOI\n",
      "其中出现1次的有 267025 个\n",
      "出现多次的有 6 个\n",
      "\n",
      "重复最多的References_DOI:\n",
      "References_DOI\n",
      "10.1140/epjc/s10052-017-5161-6||10.5506/APhysPolB.49.1157||10.1103/PhysRevD.97.114025||10.1016/j.nuclphysbps.2008.09.067||10.1134/S154747711607044X||10.1103/PhysRevLett.110.140402||10.1088/1748-0221/10/09/T09001||10.1016/j.nuclphysbps.2008.09.068||10.1016/j.nima.2010.02.166||10.1016/j.nima.2008.08.091||10.1088/1742-6596/293/1/012009||10.1016/j.nuclphysbps.2012.02.016||10.1016/S0168-9002(03)01368-8||10.1016/j.physletb.2017.03.022||10.1016/j.physletb.2013.04.065||10.1140/epjc/s10052-010-1251-4||10.1103/PhysRevD.98.030001                                                                                                                                                                                                                                                                                                                                                                                                                                                                                                                                 2\n",
      "10.1080/713819873||10.1051/0004-6361/201935251||10.3847/1538-3881/aaffd3||10.1088/0004-637X/767/1/27||10.1007/978-94-011-0880-5_46||10.1126/science.1262071||10.1088/0004-637X/751/2/97||10.1051/0004-6361/201321381||10.1364/OE.14.007515||10.1086/507630||10.1086/682989||10.1051/0004-6361/201630351||10.1051/0004-6361/201629682||10.1073/pnas.1304215111||10.3847/1538-4357/aa647f||10.1038/378355a0||10.1117/12.317283||10.1051/0004-6361/200911874||10.1051/0004-6361/201117661||10.1051/0004-6361/201219797||10.1007/978-3-540-48173-7_9||10.1051/0004-6361/202038517||10.1364/OE.21.031751||10.3847/1538-4357/833/2/203||10.1051/0004-6361/202040157||10.1051/0004-6361:20077085||10.1088/1538-3873/128/967/095004||10.1364/AO.27.002334||10.1038/nature09111||10.1038/nature13253||10.1051/0004-6361/201425018||10.1051/0004-6361:20021573||10.1051/0004-6361:20030278||10.1086/520913||10.1051/0004-6361/201526465||10.1038/s41592-019-0686-2||10.3847/1538-3881/aa6474||10.1088/0004-637X/725/1/331||10.1051/0004-6361/201424204||10.1051/0004-6361/201526835    2\n",
      "10.1017/CBO9780511526022||10.1142/S0218271814440027||10.1142/S021988781650078X||10.1063/1.1705279||10.1142/S0219887817500372||10.1007/s00006-017-0816-9||10.1140/epjc/s10052-018-5706-3                                                                                                                                                                                                                                                                                                                                                                                                                                                                                                                                                                                                                                                                                                                                                                                                                                                                                      2\n",
      "10.1016/j.nima.2018.09.144||10.1109/tns.2018.2819506||10.1016/j.nima.2009.08.030                                                                                                                                                                                                                                                                                                                                                                                                                                                                                                                                                                                                                                                                                                                                                                                                                                                                                                                                                                                             2\n",
      "10.1016/j.cpc.2008.01.036                                                                                                                                                                                                                                                                                                                                                                                                                                                                                                                                                                                                                                                                                                                                                                                                                                                                                                                                                                                                                                                    2\n",
      "Name: count, dtype: int64\n"
     ]
    }
   ],
   "source": [
    "# 统计References_DOI列中每个值的出现频率\n",
    "# 检查References_DOI列的唯一性\n",
    "doi_counts = merged_df[\"References_DOI\"].value_counts()\n",
    "print(\"\\nReferences_DOI重复值统计:\")\n",
    "print(f\"总共有 {len(doi_counts)} 个不同的References_DOI\")\n",
    "print(f\"其中出现1次的有 {len(doi_counts[doi_counts==1])} 个\")\n",
    "print(f\"出现多次的有 {len(doi_counts[doi_counts>1])} 个\")\n",
    "\n",
    "# 显示重复最多的前5个\n",
    "print(\"\\n重复最多的References_DOI:\")\n",
    "print(doi_counts.head())"
   ]
  },
  {
   "cell_type": "code",
   "execution_count": 3,
   "metadata": {},
   "outputs": [],
   "source": [
    "# # 找到包含这组特定References_DOI的文章\n",
    "# specific_refs = \"10.1017/CBO9780511526022||10.1142/S0218271814440027||10.1142/S021988781650078X||10.1063/1.1705279||10.1142/S0219887817500372||10.1007/s00006-017-0816-9||10.1140/epjc/s10052-018-5706-3\"\n",
    "\n",
    "# # 显示这些文章的关键信息\n",
    "# articles = merged_df[merged_df[\"References_DOI\"] == specific_refs][[\"Title\", \"DOI\", \"References_DOI\"]]\n",
    "# print(\"\\n重复出现的文章信息：\")\n",
    "# print(articles)\n",
    "\n",
    "# merged_df = merged_df.drop(24775)"
   ]
  },
  {
   "cell_type": "code",
   "execution_count": 4,
   "metadata": {},
   "outputs": [
    {
     "name": "stdout",
     "output_type": "stream",
     "text": [
      "对References_DOI去重后的数据集行数: 267031\n",
      "\n",
      "处理后的数据基本信息:\n",
      "       Submission Date\n",
      "count     2.670310e+05\n",
      "mean      2.020474e+07\n",
      "std       1.640957e+04\n",
      "min       2.018010e+07\n",
      "25%       2.019063e+07\n",
      "50%       2.020112e+07\n",
      "75%       2.022041e+07\n",
      "max       2.023123e+07\n",
      "DOI\n",
      "10.1155/2018/4657079               1\n",
      "10.3847/1538-4357/ac32d1           1\n",
      "10.1088/1475-7516/2021/10/052      1\n",
      "10.1103/PhysRevD.104.055040        1\n",
      "10.3847/1538-4357/ac2ede           1\n",
      "                                  ..\n",
      "10.3847/1538-4357/ab660a           1\n",
      "10.1103/PhysRevD.101.054017        1\n",
      "10.1088/1742-6596/1468/1/012138    1\n",
      "10.1088/1742-5468/ab6849           1\n",
      "10.1007/s10955-019-02376-3         1\n",
      "Name: count, Length: 267031, dtype: int64\n"
     ]
    }
   ],
   "source": [
    "# 去掉重复值\n",
    "merged_df = merged_df.drop_duplicates(subset=['References_DOI'], keep='first')\n",
    "print(f\"对References_DOI去重后的数据集行数: {len(merged_df)}\")\n",
    "\n",
    "# 显示处理后的数据基本信息\n",
    "print(\"\\n处理后的数据基本信息:\")\n",
    "print(merged_df.describe())\n",
    "doi_counts = merged_df[\"DOI\"].value_counts()\n",
    "print(doi_counts)\n"
   ]
  },
  {
   "cell_type": "code",
   "execution_count": 5,
   "metadata": {},
   "outputs": [
    {
     "name": "stdout",
     "output_type": "stream",
     "text": [
      "每年发表的论文数量：\n",
      "Year\n",
      "2018    44371\n",
      "2019    45358\n",
      "2020    48803\n",
      "2021    48583\n",
      "2022    45227\n",
      "2023    34689\n",
      "Name: count, dtype: int64\n"
     ]
    }
   ],
   "source": [
    "# 将Submission Date转换为日期格式\n",
    "merged_df['Submission Date'] = pd.to_datetime(merged_df['Submission Date'], format='%Y%m%d')\n",
    "\n",
    "# 添加年份列\n",
    "merged_df['Year'] = merged_df['Submission Date'].dt.year\n",
    "\n",
    "# 统计每年的论文数量\n",
    "yearly_counts = merged_df['Year'].value_counts().sort_index()\n",
    "\n",
    "# 打印统计结果\n",
    "print(\"每年发表的论文数量：\")\n",
    "print(yearly_counts)"
   ]
  },
  {
   "cell_type": "code",
   "execution_count": 6,
   "metadata": {},
   "outputs": [
    {
     "name": "stdout",
     "output_type": "stream",
     "text": [
      "DOI重复项检查:\n",
      "总行数: 267031\n",
      "唯一DOI数: 267031\n",
      "\n",
      "DOI重复次数统计:\n",
      "Series([], Name: count, dtype: int64)\n"
     ]
    }
   ],
   "source": [
    "# 检查DOI是否有重复\n",
    "print(\"DOI重复项检查:\")\n",
    "print(f\"总行数: {len(merged_df)}\")\n",
    "print(f\"唯一DOI数: {merged_df['DOI'].nunique()}\")\n",
    "print(\"\\nDOI重复次数统计:\")\n",
    "print(merged_df['DOI'].value_counts()[merged_df['DOI'].value_counts() > 1])"
   ]
  },
  {
   "cell_type": "code",
   "execution_count": 7,
   "metadata": {},
   "outputs": [
    {
     "name": "stdout",
     "output_type": "stream",
     "text": [
      "总边数: 2302072\n",
      "去掉重复边后的边数: 2296339\n",
      "删除的重复边数: 5733\n",
      "总节点数: 267031\n",
      "总边数: 2296339\n",
      "标签类别数: 53\n",
      "\n",
      "训练集节点数: 187115 (70.1%)\n",
      "验证集节点数: 45227 (16.9%)\n",
      "测试集节点数: 34689 (13.0%)\n"
     ]
    }
   ],
   "source": [
    "import numpy as np\n",
    "import pandas as pd\n",
    "\n",
    "# 创建统一的DOI到索引的映射\n",
    "doi_to_idx = {doi: idx for idx, doi in enumerate(merged_df['DOI'].unique())}\n",
    "idx_to_doi = {idx: doi for doi, idx in doi_to_idx.items()}\n",
    "\n",
    "# 创建Primary_Subclass到标签的映射\n",
    "unique_labels = merged_df['Primary_Subclass'].unique()\n",
    "label_to_idx = {label: idx for idx, label in enumerate(unique_labels)}\n",
    "\n",
    "# 创建训练/验证/测试集的索引数组\n",
    "train_idx = []\n",
    "valid_idx = []\n",
    "test_idx = []\n",
    "\n",
    "# 一次性处理所有数据\n",
    "for doi, year in zip(merged_df['DOI'], merged_df['Year']):\n",
    "    idx = doi_to_idx[doi]\n",
    "    if 2018 <= year <= 2021:\n",
    "        train_idx.append(idx)\n",
    "    elif year == 2022:\n",
    "        valid_idx.append(idx)\n",
    "    elif year == 2023:\n",
    "        test_idx.append(idx)\n",
    "\n",
    "# 转换为numpy数组并保存\n",
    "np.save('raw/train_idx.npy', np.array(list(set(train_idx))))\n",
    "np.save('raw/valid_idx.npy', np.array(list(set(valid_idx))))\n",
    "np.save('raw/test_idx.npy', np.array(list(set(test_idx))))\n",
    "\n",
    "# 创建完整的edges.csv\n",
    "edges_list = []\n",
    "for doi, refs in zip(merged_df['DOI'], merged_df['References_DOI']):\n",
    "    source_idx = doi_to_idx[doi]\n",
    "    ref_dois = str(refs).split('||')\n",
    "    for ref_doi in ref_dois:\n",
    "        ref_doi = ref_doi.strip()\n",
    "        if ref_doi in doi_to_idx:  # 只对图内的引用建立边\n",
    "            target_idx = doi_to_idx[ref_doi]\n",
    "            # 去掉自环\n",
    "            if source_idx != target_idx:\n",
    "                edges_list.append([source_idx, target_idx])\n",
    "\n",
    "# 去掉重复边\n",
    "edges_df = pd.DataFrame(edges_list, columns=['source', 'target'])\n",
    "edges_df = edges_df.drop_duplicates()\n",
    "\n",
    "# 保存处理后的边\n",
    "edges_df.to_csv('raw/edges.csv', index=False)\n",
    "\n",
    "# 打印统计信息\n",
    "print(f\"总边数: {len(edges_list)}\")\n",
    "print(f\"去掉重复边后的边数: {len(edges_df)}\")\n",
    "print(f\"删除的重复边数: {len(edges_list) - len(edges_df)}\")\n",
    "\n",
    "# 创建并保存节点标签\n",
    "node_labels = pd.DataFrame({\n",
    "    'label': [label_to_idx[label] for label in merged_df['Primary_Subclass']]\n",
    "})\n",
    "node_labels.to_csv('raw/node_labels.csv', index=False)\n",
    "\n",
    "# 打印统计信息\n",
    "print(f\"总节点数: {len(doi_to_idx)}\")\n",
    "print(f\"总边数: {len(edges_df)}\")\n",
    "print(f\"标签类别数: {len(label_to_idx)}\")\n",
    "print(f\"\\n训练集节点数: {len(set(train_idx))} ({len(set(train_idx))/len(doi_to_idx)*100:.1f}%)\")\n",
    "print(f\"验证集节点数: {len(set(valid_idx))} ({len(set(valid_idx))/len(doi_to_idx)*100:.1f}%)\")\n",
    "print(f\"测试集节点数: {len(set(test_idx))} ({len(set(test_idx))/len(doi_to_idx)*100:.1f}%)\")\n",
    "\n",
    "# 保存映射关系\n",
    "mapping_df = pd.DataFrame({\n",
    "    'idx': doi_to_idx.values(),\n",
    "    'doi': doi_to_idx.keys()\n",
    "})\n",
    "mapping_df.to_csv('raw/node_mapping.csv', index=False)\n",
    "\n",
    "# 保存标签映射\n",
    "with open('raw/label_mapping.txt', 'w') as f:\n",
    "    for label, idx in label_to_idx.items():\n",
    "        f.write(f\"{label}: {idx}\\n\")"
   ]
  },
  {
   "cell_type": "code",
   "execution_count": 8,
   "metadata": {},
   "outputs": [
    {
     "name": "stdout",
     "output_type": "stream",
     "text": [
      "重复边数量: 0\n",
      "\n",
      "自环数量: 0\n"
     ]
    }
   ],
   "source": [
    "# 统计重复边\n",
    "total_edges = len(edges_df)\n",
    "unique_edges = len(edges_df.drop_duplicates())\n",
    "duplicate_edges = total_edges - unique_edges\n",
    "\n",
    "print(f\"重复边数量: {duplicate_edges}\")\n",
    "\n",
    "# 统计自环\n",
    "self_loops = len(edges_df[edges_df['source'] == edges_df['target']])\n",
    "\n",
    "print(f\"\\n自环数量: {self_loops}\")"
   ]
  },
  {
   "cell_type": "markdown",
   "metadata": {},
   "source": [
    "## Utility"
   ]
  },
  {
   "cell_type": "code",
   "execution_count": 9,
   "metadata": {},
   "outputs": [
    {
     "name": "stdout",
     "output_type": "stream",
     "text": [
      "Node 972:\n",
      "--------------------------------------------------\n",
      "DOI: 10.1103/PhysRevB.97.035114\n",
      "arXiv: arXiv:1705.05829\n",
      "Primary_Subclass: cond-mat.str-el\n",
      "Title: Quantum anomalous Hall state from spatially decaying interactions on the decorated honeycomb lattice\n"
     ]
    }
   ],
   "source": [
    "def get_node_info(node_idx):\n",
    "    \"\"\"\n",
    "    输入节点索引，返回该节点的详细信息\n",
    "    \n",
    "    Args:\n",
    "        node_idx (int): 节点索引号\n",
    "    \"\"\"\n",
    "    try:\n",
    "        # 获取DOI\n",
    "        doi = idx_to_doi[node_idx]\n",
    "        # 获取节点信息\n",
    "        node_info = merged_df[merged_df['DOI'] == doi].iloc[0]\n",
    "        \n",
    "        print(f\"Node {node_idx}:\")\n",
    "        print(\"-\" * 50)\n",
    "        print(f\"DOI: {doi}\")\n",
    "        print(f\"arXiv: {node_info['arXiv Code']}\")\n",
    "        print(f\"Primary_Subclass: {node_info['Primary_Subclass']}\")\n",
    "        print(f\"Title: {node_info['Title']}\")\n",
    "        \n",
    "    except KeyError:\n",
    "        print(f\"索引 {node_idx} 不存在\")\n",
    "    except Exception as e:\n",
    "        print(f\"查询出错: {str(e)}\")\n",
    "\n",
    "# 使用示例\n",
    "# get_node_info(254726)  # 查询索引为1的节点\n",
    "# get_node_info(49267)  # 查询索引为15017的节点\n",
    "get_node_info(972)  # 查询索引为15017的节点"
   ]
  },
  {
   "cell_type": "code",
   "execution_count": 10,
   "metadata": {},
   "outputs": [
    {
     "name": "stdout",
     "output_type": "stream",
     "text": [
      "Average citations per paper: 10.41\n",
      "Median citation count: 6.00\n",
      "Maximum citations: 850\n",
      "Minimum citations: 1\n",
      "\n",
      "Citation count distribution:\n",
      "count\n",
      "1    30663\n",
      "2    23006\n",
      "3    18668\n",
      "4    15471\n",
      "5    13270\n",
      "Name: count, dtype: int64\n"
     ]
    },
    {
     "data": {
      "image/png": "[encoded data removed]",
      "text/plain": [
       "<Figure size 1000x600 with 1 Axes>"
      ]
     },
     "metadata": {},
     "output_type": "display_data"
    }
   ],
   "source": [
    "import  matplotlib.pyplot as plt\n",
    "# 统计引用次数分布\n",
    "cite_counts = edges_df['source'].value_counts()\n",
    "\n",
    "# Plot citation count distribution\n",
    "plt.figure(figsize=(10, 6))\n",
    "plt.hist(cite_counts, bins=200, edgecolor='black')\n",
    "plt.title('Paper Citation Count Distribution')\n",
    "plt.xlabel('Number of Citations per Paper')\n",
    "plt.ylabel('Number of Papers')\n",
    "plt.grid(True, alpha=0.3)\n",
    "\n",
    "# Add some statistics\n",
    "print(f\"Average citations per paper: {cite_counts.mean():.2f}\")\n",
    "print(f\"Median citation count: {cite_counts.median():.2f}\")\n",
    "print(f\"Maximum citations: {cite_counts.max()}\")\n",
    "print(f\"Minimum citations: {cite_counts.min()}\")\n",
    "print(\"\\nCitation count distribution:\")\n",
    "print(cite_counts.value_counts().sort_index().head())\n"
   ]
  },
  {
   "cell_type": "markdown",
   "metadata": {},
   "source": [
    "## Text Embeddings"
   ]
  },
  {
   "cell_type": "code",
   "execution_count": 11,
   "metadata": {},
   "outputs": [
    {
     "name": "stderr",
     "output_type": "stream",
     "text": [
      "/home/zonic/miniconda3/lib/python3.12/site-packages/tqdm/auto.py:21: TqdmWarning: IProgress not found. Please update jupyter and ipywidgets. See https://ipywidgets.readthedocs.io/en/stable/user_install.html\n",
      "  from .autonotebook import tqdm as notebook_tqdm\n",
      "/home/zonic/miniconda3/lib/python3.12/site-packages/huggingface_hub/file_download.py:1132: FutureWarning: `resume_download` is deprecated and will be removed in version 1.0.0. Downloads always resume when possible. If you want to force a new download, use `force_download=True`.\n",
      "  warnings.warn(\n"
     ]
    },
    {
     "name": "stdout",
     "output_type": "stream",
     "text": [
      "测试前三个节点的文本嵌入：\n",
      "--------------------------------------------------------------------------------\n",
      "Node 0:\n",
      "DOI: 10.1155/2018/4657079\n",
      "Title: Moving unstable particles and special relativity\n",
      "Abstract: In Poincare-Wigner-Dirac theory of relativistic interactions, boosts are dynamical. This means that - just like time translations - boost transformations have non-trivial effect on internal variables ...\n",
      "\n",
      "嵌入向量维度: (768,)\n",
      "嵌入向量前10个值: [-0.11566338 -0.24276529  0.06427854 -0.02517963  0.35934925 -0.11243405\n",
      "  0.5584571   0.15690465 -0.2259914   0.17006728]\n",
      "嵌入向量L2范数: 14.1689\n",
      "--------------------------------------------------------------------------------\n",
      "Node 1:\n",
      "DOI: 10.1364/OL.43.000935\n",
      "Title: Optical vector network analysis of ultra-narrow transitions in $^{166}$Er$^{3+}$:$^7$LiYF$_4$\n",
      "Abstract: We present optical vector network analysis (OVNA) of an isotopically purified $^{166}$Er$^{3+}$:$^7$LiYF$_4$ crystal. The OVNA method is based on generation and detection of modulated optical sideband...\n",
      "\n",
      "嵌入向量维度: (768,)\n",
      "嵌入向量前10个值: [ 0.4070864  -0.34471378  0.23408951  0.16869724 -0.00507806  0.12103054\n",
      "  0.03544585  0.61901283 -0.21830916  0.14826016]\n",
      "嵌入向量L2范数: 12.9205\n",
      "--------------------------------------------------------------------------------\n",
      "Node 2:\n",
      "DOI: 10.1039/C8NR00053K\n",
      "Title: The graphene/n-Ge(110) interface: structure, doping, and electronic properties\n",
      "Abstract: The implementation of graphene in semiconducting technology requires the precise knowledge about the graphene-semiconductor interface. In our work the structure and electronic properties of the graphe...\n",
      "\n",
      "嵌入向量维度: (768,)\n",
      "嵌入向量前10个值: [ 0.22318101 -0.25138888 -0.23695177  0.28094658  0.19152617  0.17666678\n",
      " -0.03266681  0.5939375  -0.03127543  0.35099348]\n",
      "嵌入向量L2范数: 13.3635\n",
      "--------------------------------------------------------------------------------\n"
     ]
    }
   ],
   "source": [
    "from transformers import AutoTokenizer, AutoModel\n",
    "import torch\n",
    "import numpy as np\n",
    "from tqdm import tqdm\n",
    "\n",
    "# 加载SciBERT模型和分词器\n",
    "tokenizer = AutoTokenizer.from_pretrained('allenai/scibert_scivocab_uncased')\n",
    "model = AutoModel.from_pretrained('allenai/scibert_scivocab_uncased')\n",
    "model.eval()\n",
    "\n",
    "def get_scibert_embedding(text, max_length=512):\n",
    "    \"\"\"获取文本的SciBERT嵌入\"\"\"\n",
    "    inputs = tokenizer(text, \n",
    "                      return_tensors=\"pt\",\n",
    "                      max_length=max_length,\n",
    "                      truncation=True,\n",
    "                      padding=True)\n",
    "    \n",
    "    with torch.no_grad():\n",
    "        outputs = model(**inputs)\n",
    "        embeddings = outputs.last_hidden_state\n",
    "        mask = inputs['attention_mask'].unsqueeze(-1)\n",
    "        masked_embeddings = embeddings * mask\n",
    "        summed = torch.sum(masked_embeddings, dim=1)\n",
    "        avg_embeddings = summed / torch.sum(mask, dim=1)\n",
    "        \n",
    "    return avg_embeddings.numpy()[0]\n",
    "\n",
    "# 首先按DOI排序数据\n",
    "sorted_df = merged_df.set_index('DOI').loc[idx_to_doi.values()].reset_index()\n",
    "\n",
    "# 获取前三个节点的数据\n",
    "test_samples = sorted_df.head(3)\n",
    "\n",
    "print(\"测试前三个节点的文本嵌入：\")\n",
    "print(\"-\" * 80)\n",
    "\n",
    "for idx, row in test_samples.iterrows():\n",
    "    print(f\"Node {idx}:\")\n",
    "    print(f\"DOI: {row['DOI']}\")\n",
    "    print(f\"Title: {row['Title']}\")\n",
    "    print(f\"Abstract: {row['Abstract'][:200]}...\")  # 只显示摘要的前200个字符\n",
    "    \n",
    "    # 拼接文本并获取嵌入\n",
    "    text = f\"{row['Title']} [SEP] {row['Abstract']}\"\n",
    "    embedding = get_scibert_embedding(text)\n",
    "    \n",
    "    print(f\"\\n嵌入向量维度: {embedding.shape}\")\n",
    "    print(f\"嵌入向量前10个值: {embedding[:10]}\")\n",
    "    print(f\"嵌入向量L2范数: {np.linalg.norm(embedding):.4f}\")\n",
    "    print(\"-\" * 80)"
   ]
  },
  {
   "cell_type": "code",
   "execution_count": 12,
   "metadata": {},
   "outputs": [],
   "source": [
    "# 保存排序后的DataFrame\n",
    "sorted_df = merged_df.set_index('DOI').loc[idx_to_doi.values()].reset_index()\n",
    "sorted_df.to_csv('raw/sorted_papers.csv', index=False)"
   ]
  }
 ],
 "metadata": {
  "kernelspec": {
   "display_name": "base",
   "language": "python",
   "name": "python3"
  },
  "language_info": {
   "codemirror_mode": {
    "name": "ipython",
    "version": 3
   },
   "file_extension": ".py",
   "mimetype": "text/x-python",
   "name": "python",
   "nbconvert_exporter": "python",
   "pygments_lexer": "ipython3",
   "version": "3.12.2"
  }
 },
 "nbformat": 4,
 "nbformat_minor": 2
}
