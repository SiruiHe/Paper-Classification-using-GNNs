{
 "cells": [
  {
   "cell_type": "code",
   "execution_count": 1,
   "metadata": {},
   "outputs": [
    {
     "name": "stdout",
     "output_type": "stream",
     "text": [
      "The ogbn-arxiv dataset has 1 graph\n",
      "Data(num_nodes=169343, x=[169343, 128], node_year=[169343, 1], y=[169343, 1], adj_t=[169343, 169343, nnz=1166243])\n",
      "\n",
      "节点ID范围: 0 ~ 169342\n",
      "\n",
      "标签信息:\n",
      "标签维度: torch.Size([169343, 1])\n",
      "标签取值范围: 0 ~ 39\n",
      "标签类别数量: 40\n"
     ]
    }
   ],
   "source": [
    "import torch_geometric.transforms as T\n",
    "from ogb.nodeproppred import PygNodePropPredDataset\n",
    "import torch\n",
    "\n",
    "\n",
    "dataset_name = 'ogbn-arxiv'\n",
    "\n",
    "dataset = PygNodePropPredDataset(name=dataset_name,\n",
    "                                 transform=T.ToSparseTensor())\n",
    "print('The {} dataset has {} graph'.format(dataset_name, len(dataset)))\n",
    "\n",
    "# Extract the graph\n",
    "data = dataset[0]\n",
    "print(data)\n",
    "\n",
    "# 查看节点ID范围\n",
    "print(f\"\\n节点ID范围: 0 ~ {data.x.shape[0]-1}\")\n",
    "# 查看标签信息\n",
    "print(\"\\n标签信息:\")\n",
    "print(f\"标签维度: {data.y.shape}\")\n",
    "print(f\"标签取值范围: {torch.min(data.y).item()} ~ {torch.max(data.y).item()}\")\n",
    "print(f\"标签类别数量: {len(torch.unique(data.y))}\")\n"
   ]
  },
  {
   "cell_type": "code",
   "execution_count": 5,
   "metadata": {},
   "outputs": [
    {
     "name": "stdout",
     "output_type": "stream",
     "text": [
      "\n",
      "边的统计信息:\n",
      "总边数: 1166243\n",
      "自环数量: 0\n",
      "重复边数量: 0\n",
      "唯一边数量: 1166243\n",
      "\n",
      "度数统计信息:\n",
      "平均度数: 6.89\n",
      "最大度数: 436.0\n",
      "最小度数: 0.0\n",
      "度数标准差: 8.88\n",
      "\n",
      "孤立节点数量: 17440\n",
      "存在孤立节点,其ID为:\n",
      "tensor([     3,      5,      6,  ..., 169098, 169099, 169251])\n"
     ]
    }
   ],
   "source": [
    "from torch_geometric.utils import degree\n",
    "from torch_sparse import SparseTensor\n",
    "\n",
    "# 获取边索引\n",
    "edge_index = torch.stack([data.adj_t.storage.row(), data.adj_t.storage.col()], dim=0)\n",
    "\n",
    "# 计算总边数（直接使用edge_index的列数）\n",
    "total_edges = edge_index.size(1)\n",
    "\n",
    "# 计算自环数量\n",
    "self_loops = (edge_index[0] == edge_index[1]).sum().item()\n",
    "\n",
    "# 计算重复边\n",
    "edge_list = list(zip(edge_index[0].tolist(), edge_index[1].tolist()))\n",
    "unique_edges = len(set(edge_list))\n",
    "duplicate_edges = total_edges - unique_edges\n",
    "\n",
    "# 计算度数（保持原有的度数统计）\n",
    "degrees = degree(edge_index[1], num_nodes=data.num_nodes)\n",
    "\n",
    "print(\"\\n边的统计信息:\")\n",
    "print(f\"总边数: {total_edges}\")\n",
    "print(f\"自环数量: {self_loops}\")\n",
    "print(f\"重复边数量: {duplicate_edges}\")\n",
    "print(f\"唯一边数量: {unique_edges}\")\n",
    "\n",
    "\n",
    "# 统计度数信息\n",
    "print(\"\\n度数统计信息:\")\n",
    "print(f\"平均度数: {degrees.mean().item():.2f}\")\n",
    "print(f\"最大度数: {degrees.max().item()}\")\n",
    "print(f\"最小度数: {degrees.min().item()}\")\n",
    "print(f\"度数标准差: {degrees.std().item():.2f}\")\n",
    "\n",
    "# 找出度数为0的节点(孤立节点)\n",
    "isolated_nodes = torch.where(degrees == 0)[0]\n",
    "\n",
    "print(f\"\\n孤立节点数量: {len(isolated_nodes)}\")\n",
    "if len(isolated_nodes) > 0:\n",
    "    print(\"存在孤立节点,其ID为:\")\n",
    "    print(isolated_nodes)\n",
    "else:\n",
    "    print(\"不存在孤立节点\")\n"
   ]
  }
 ],
 "metadata": {
  "kernelspec": {
   "display_name": "gnn",
   "language": "python",
   "name": "python3"
  },
  "language_info": {
   "codemirror_mode": {
    "name": "ipython",
    "version": 3
   },
   "file_extension": ".py",
   "mimetype": "text/x-python",
   "name": "python",
   "nbconvert_exporter": "python",
   "pygments_lexer": "ipython3",
   "version": "3.9.20"
  }
 },
 "nbformat": 4,
 "nbformat_minor": 2
}
