{
 "cells": [
  {
   "cell_type": "code",
   "execution_count": 1,
   "metadata": {},
   "outputs": [
    {
     "name": "stderr",
     "output_type": "stream",
     "text": [
      "/opt/miniconda3/lib/python3.10/site-packages/torchdata/datapipes/__init__.py:18: UserWarning: \n",
      "################################################################################\n",
      "WARNING!\n",
      "The 'datapipes', 'dataloader2' modules are deprecated and will be removed in a\n",
      "future torchdata release! Please see https://github.com/pytorch/data/issues/1196\n",
      "to learn more and leave feedback.\n",
      "################################################################################\n",
      "\n",
      "  deprecation_warning()\n"
     ]
    },
    {
     "name": "stdout",
     "output_type": "stream",
     "text": [
      "Downloading http://snap.stanford.edu/ogb/data/nodeproppred/arxiv.zip\n"
     ]
    },
    {
     "name": "stderr",
     "output_type": "stream",
     "text": [
      "Downloaded 0.08 GB: 100%|██████████| 81/81 [00:44<00:00,  1.81it/s]\n",
      "Processing...\n"
     ]
    },
    {
     "name": "stdout",
     "output_type": "stream",
     "text": [
      "Extracting dataset/arxiv.zip\n",
      "Loading necessary files...\n",
      "This might take a while.\n",
      "Processing graphs...\n"
     ]
    },
    {
     "name": "stderr",
     "output_type": "stream",
     "text": [
      "100%|██████████| 1/1 [00:00<00:00, 35848.75it/s]\n"
     ]
    },
    {
     "name": "stdout",
     "output_type": "stream",
     "text": [
      "Converting graphs into PyG objects...\n"
     ]
    },
    {
     "name": "stderr",
     "output_type": "stream",
     "text": [
      "100%|██████████| 1/1 [00:00<00:00, 491.89it/s]"
     ]
    },
    {
     "name": "stdout",
     "output_type": "stream",
     "text": [
      "Saving...\n",
      "The ogbn-arxiv dataset has 1 graph\n"
     ]
    },
    {
     "name": "stderr",
     "output_type": "stream",
     "text": [
      "\n",
      "Done!\n"
     ]
    },
    {
     "name": "stdout",
     "output_type": "stream",
     "text": [
      "Data(num_nodes=169343, x=[169343, 128], node_year=[169343, 1], y=[169343, 1], adj_t=[169343, 169343])\n",
      "\n",
      "节点ID范围: 0 ~ 169342\n",
      "\n",
      "标签信息:\n",
      "标签维度: torch.Size([169343, 1])\n",
      "标签取值范围: 0 ~ 39\n",
      "标签类别数量: 40\n"
     ]
    },
    {
     "name": "stderr",
     "output_type": "stream",
     "text": [
      "/opt/miniconda3/lib/python3.10/site-packages/torch_geometric/utils/sparse.py:277: UserWarning: Sparse CSR tensor support is in beta state. If you miss a functionality in the sparse tensor support, please submit a feature request to https://github.com/pytorch/pytorch/issues. (Triggered internally at /Users/runner/work/pytorch/pytorch/pytorch/aten/src/ATen/SparseCsrTensorImpl.cpp:55.)\n",
      "  adj = torch.sparse_csr_tensor(\n"
     ]
    }
   ],
   "source": [
    "import torch_geometric.transforms as T\n",
    "from ogb.nodeproppred import PygNodePropPredDataset\n",
    "import torch\n",
    "\n",
    "\n",
    "dataset_name = 'ogbn-arxiv'\n",
    "\n",
    "dataset = PygNodePropPredDataset(name=dataset_name,\n",
    "                                 transform=T.ToSparseTensor())\n",
    "print('The {} dataset has {} graph'.format(dataset_name, len(dataset)))\n",
    "\n",
    "# Extract the graph\n",
    "data = dataset[0]\n",
    "print(data)\n",
    "\n",
    "# 查看节点ID范围\n",
    "print(f\"\\n节点ID范围: 0 ~ {data.x.shape[0]-1}\")\n",
    "# 查看标签信息\n",
    "print(\"\\n标签信息:\")\n",
    "print(f\"标签维度: {data.y.shape}\")\n",
    "print(f\"标签取值范围: {torch.min(data.y).item()} ~ {torch.max(data.y).item()}\")\n",
    "print(f\"标签类别数量: {len(torch.unique(data.y))}\")\n"
   ]
  },
  {
   "cell_type": "code",
   "execution_count": 20,
   "metadata": {},
   "outputs": [
    {
     "name": "stdout",
     "output_type": "stream",
     "text": [
      "\n",
      "度数统计信息:\n",
      "平均度数: 6.89\n",
      "最大度数: 13155.0\n",
      "最小度数: 0.0\n",
      "度数标准差: 67.60\n",
      "\n",
      "孤立节点数量: 62006\n",
      "存在孤立节点,其ID为:\n",
      "tensor([     8,     11,     16,  ..., 169337, 169338, 169342])\n"
     ]
    }
   ],
   "source": [
    "# 获取邻接矩阵\n",
    "adj_t = data.adj_t\n",
    "\n",
    "# 计算每个节点的度数\n",
    "degrees = adj_t.sum(dim=1)\n",
    "\n",
    "# 统计度数信息\n",
    "print(\"\\n度数统计信息:\")\n",
    "print(f\"平均度数: {degrees.mean().item():.2f}\")\n",
    "print(f\"最大度数: {degrees.max().item()}\")\n",
    "print(f\"最小度数: {degrees.min().item()}\")\n",
    "print(f\"度数标准差: {degrees.std().item():.2f}\")\n",
    "\n",
    "# 找出度数为0的节点(孤立节点)\n",
    "isolated_nodes = torch.where(degrees == 0)[0]\n",
    "\n",
    "print(f\"\\n孤立节点数量: {len(isolated_nodes)}\")\n",
    "if len(isolated_nodes) > 0:\n",
    "    print(\"存在孤立节点,其ID为:\")\n",
    "    print(isolated_nodes)\n",
    "else:\n",
    "    print(\"不存在孤立节点\")\n"
   ]
  },
  {
   "cell_type": "code",
   "execution_count": 3,
   "metadata": {},
   "outputs": [
    {
     "data": {
      "text/plain": [
       "torch_geometric.data.data.Data"
      ]
     },
     "execution_count": 3,
     "metadata": {},
     "output_type": "execute_result"
    }
   ],
   "source": [
    "type(data)"
   ]
  },
  {
   "cell_type": "code",
   "execution_count": 21,
   "metadata": {},
   "outputs": [
    {
     "data": {
      "text/plain": [
       "SparseTensor(row=tensor([], dtype=torch.int64),\n",
       "             col=tensor([], dtype=torch.int64),\n",
       "             size=(1, 169343), nnz=0, density=0.00%)"
      ]
     },
     "execution_count": 21,
     "metadata": {},
     "output_type": "execute_result"
    }
   ],
   "source": [
    "adj_t[8]"
   ]
  }
 ],
 "metadata": {
  "kernelspec": {
   "display_name": "gnn",
   "language": "python",
   "name": "python3"
  },
  "language_info": {
   "codemirror_mode": {
    "name": "ipython",
    "version": 3
   },
   "file_extension": ".py",
   "mimetype": "text/x-python",
   "name": "python",
   "nbconvert_exporter": "python",
   "pygments_lexer": "ipython3",
   "version": "3.10.14"
  }
 },
 "nbformat": 4,
 "nbformat_minor": 2
}
